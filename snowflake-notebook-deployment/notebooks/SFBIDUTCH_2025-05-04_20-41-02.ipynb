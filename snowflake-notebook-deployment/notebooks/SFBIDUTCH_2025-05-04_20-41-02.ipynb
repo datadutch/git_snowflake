{
    "cells": [
        {
            "cell_type": "code",
            "metadata": {
                "id": "17a10fe7",
                "language": "python"
            },
            "source": [
                "# Import python packages",
                "import streamlit as st",
                "import pandas as pd",
                "",
                "# We can also use Snowpark for our analyses!",
                "from snowflake.snowpark.context import get_active_session",
                "session = get_active_session()",
                ""
            ]
        },
        {
            "cell_type": "code",
            "metadata": {
                "id": "6693b402",
                "language": "python"
            },
            "source": [
                "-- Welcome to Snowflake Notebooks!",
                "-- Try out a SQL cell to generate some data.",
                "SELECT 'FRIDAY' as SNOWDAY, 0.2 as CHANCE_OF_SNOW",
                "UNION ALL",
                "SELECT 'SATURDAY',0.5",
                "UNION ALL ",
                "SELECT 'SUNDAY', 0.9;"
            ]
        },
        {
            "cell_type": "code",
            "metadata": {
                "id": "98a44eff",
                "language": "python"
            },
            "source": [
                "# Then, we can use the python name to turn cell2 into a Pandas dataframe",
                "my_df = cell2.to_pandas()",
                "",
                "# Chart the data",
                "st.subheader(\"Chance of SNOW ❄️\")",
                "st.line_chart(my_df, x='SNOWDAY', y='CHANCE_OF_SNOW')",
                "",
                "# Give it a go!",
                "st.subheader(\"Try it out yourself and show off your skills 🥇\")"
            ]
        }
    ],
    "metadata": {
        "kernelspec": {
            "display_name": "Python 3",
            "language": "python",
            "name": "python3"
        },
        "language_info": {
            "codemirror_mode": {
                "name": "ipython",
                "version": 3
            },
            "file_extension": ".py",
            "mimetype": "text/x-python",
            "name": "python",
            "nbconvert_exporter": "python",
            "pygments_lexer": "ipython3",
            "version": "3.8.5"
        }
    },
    "nbformat": 4,
    "nbformat_minor": 4
}