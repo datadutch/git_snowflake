{
    "cells": [
        {
            "cell_type": "code",
            "execution_count": null,
            "metadata": {
                "id": "17a10fe7",
                "language": "python"
            },
            "outputs": [],
            "source": [
                "# Hello World in Python\n",
                "print(\"Hello, World!\")\n"
            ]
        },
        {
            "cell_type": "code",
            "execution_count": null,
            "metadata": {
                "id": "6693b402",
                "language": "python"
            },
            "outputs": [],
            "source": [
                "-- Welcome to Snowflake Notebooks!\n",
                "-- Try out a SQL cell to generate some data.\n",
                "# Welcome to the Notebook\n",
                "This is a simple 'Hello World' example to get started.\n",
                "SELECT 'FRIDAY' as SNOWDAY, 0.2 as CHANCE_OF_SNOW\n",
                "UNION ALL\n",
                "SELECT 'SATURDAY',0.5\n",
                "UNION ALL \n",
                "SELECT 'SUNDAY', 0.9;"
            ]
        },
        {
            "cell_type": "code",
            "execution_count": null,
            "metadata": {
                "id": "98a44eff",
                "language": "python"
            },
            "outputs": [],
            "source": [
                "# Then, we can use the python name to turn cell2 into a Pandas dataframe\n",
                "my_df = cell2.to_pandas()\n",
                "\n",
                "# Basic Arithmetic Example\n",
                "a = 10\n",
                "b = 20\n",
                "print(\"Sum of a and b is:\", a + b)\n",
                "\n",
                "# Give it a go!\n",
                "st.subheader(\"Try it out yourself and show off your skills 🥇\")"
            ]
        }
    ],
    "metadata": {
        "kernelspec": {
            "display_name": "Python 3",
            "language": "python",
            "name": "python3"
        },
        "language_info": {
            "codemirror_mode": {
                "name": "ipython",
                "version": 3
            },
            "file_extension": ".py",
            "mimetype": "text/x-python",
            "name": "python",
            "nbconvert_exporter": "python",
            "pygments_lexer": "ipython3",
            "version": "3.8.5"
        }
    },
    "nbformat": 4,
    "nbformat_minor": 4
}
